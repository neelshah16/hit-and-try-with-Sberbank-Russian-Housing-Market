{
 "cells": [
  {
   "cell_type": "code",
   "execution_count": 1,
   "metadata": {},
   "outputs": [
    {
     "name": "stderr",
     "output_type": "stream",
     "text": [
      "/Library/Frameworks/Python.framework/Versions/3.5/lib/python3.5/site-packages/IPython/html.py:14: ShimWarning: The `IPython.html` package has been deprecated since IPython 4.0. You should import from `notebook` instead. `IPython.html.widgets` has moved to `ipywidgets`.\n",
      "  \"`IPython.html.widgets` has moved to `ipywidgets`.\", ShimWarning)\n"
     ]
    }
   ],
   "source": [
    "import pandas as pd\n",
    "import seaborn as sns\n",
    "import numpy as np\n",
    "import matplotlib.pyplot as plt\n",
    "%matplotlib inline\n",
    "plt.style.use('ggplot')\n",
    "\n",
    "df_train = pd.read_csv('train.csv')\n",
    "df_test = pd.read_csv('test.csv')\n",
    "df_extra = pd.read_csv('macro.csv')"
   ]
  },
  {
   "cell_type": "code",
   "execution_count": 2,
   "metadata": {
    "collapsed": true,
    "scrolled": false
   },
   "outputs": [],
   "source": [
    "outlier_ids = [3527, 13546, 23584, 20722, 21734, 21852, 25940, 10089, 11621,\n",
    "       26713, 10368, 13117, 21415, 28734, 11701, 12742, 14426, 14685,\n",
    "       14729, 14895, 15868, 15902, 16790, 17010, 17059, 17396, 17404,\n",
    "       17761, 18074, 18356, 18959, 20324, 20863, 21565, 21663, 21938,\n",
    "       22487, 23397, 23483, 23656, 24820, 25769, 25826, 25876, 26923,\n",
    "       27371, 28074, 29136,  7977, 22694, 16308, 22778,   723,   948,\n",
    "        1402,  2934,  6191,  8895, 10901, 11278, 12282, 17296, 18933,\n",
    "       18990, 22664, 23602, 26487,  8073,  9502, 29656,  8933,  1465,\n",
    "       10587, 16486, 28326,  7457,  2118]\n",
    "\n",
    "df_train.drop(outlier_ids, 0, inplace=True)"
   ]
  },
  {
   "cell_type": "code",
   "execution_count": null,
   "metadata": {
    "collapsed": true,
    "scrolled": false
   },
   "outputs": [],
   "source": [
    "def initial_report(df):\n",
    "    report_csv = pd.DataFrame({}, index=df.columns.values)\n",
    "    report_csv['Dtype'] = df_train.dtypes\n",
    "    for i in range(1, 6):\n",
    "        report_csv['sample_data'+str(i)] = np.nan\n",
    "        for j in df.columns:\n",
    "            report_csv[j, 'sample_data'+str(i)] = df_train[j].dropna()[i]\n",
    "\n",
    "    print(report_csv)\n",
    "\n",
    "\n",
    "initial_report(df_train)"
   ]
  },
  {
   "cell_type": "code",
   "execution_count": 9,
   "metadata": {
    "scrolled": false
   },
   "outputs": [
    {
     "data": {
      "text/plain": [
       "7672    17.0\n",
       "8056     5.0\n",
       "8111    22.0\n",
       "8135    16.0\n",
       "Name: max_floor, dtype: float64"
      ]
     },
     "execution_count": 9,
     "metadata": {},
     "output_type": "execute_result"
    }
   ],
   "source": [
    "df_train['max_floor'].dropna().iloc[0:4]"
   ]
  },
  {
   "cell_type": "code",
   "execution_count": 8,
   "metadata": {},
   "outputs": [
    {
     "data": {
      "text/plain": [
       "Index(['id', 'timestamp', 'full_sq', 'life_sq', 'floor', 'max_floor',\n",
       "       'material', 'build_year', 'num_room', 'kitch_sq',\n",
       "       ...\n",
       "       'cafe_count_5000_price_2500', 'cafe_count_5000_price_4000',\n",
       "       'cafe_count_5000_price_high', 'big_church_count_5000',\n",
       "       'church_count_5000', 'mosque_count_5000', 'leisure_count_5000',\n",
       "       'sport_count_5000', 'market_count_5000', 'price_doc'],\n",
       "      dtype='object', length=292)"
      ]
     },
     "execution_count": 8,
     "metadata": {},
     "output_type": "execute_result"
    }
   ],
   "source": [
    "df_train.columns"
   ]
  },
  {
   "cell_type": "code",
   "execution_count": 14,
   "metadata": {},
   "outputs": [
    {
     "data": {
      "text/plain": [
       "Index(['id', 'full_sq', 'life_sq', 'floor', 'max_floor', 'material',\n",
       "       'build_year', 'num_room', 'kitch_sq', 'state',\n",
       "       ...\n",
       "       'cafe_count_5000_price_2500', 'cafe_count_5000_price_4000',\n",
       "       'cafe_count_5000_price_high', 'big_church_count_5000',\n",
       "       'church_count_5000', 'mosque_count_5000', 'leisure_count_5000',\n",
       "       'sport_count_5000', 'market_count_5000', 'price_doc'],\n",
       "      dtype='object', length=276)"
      ]
     },
     "execution_count": 14,
     "metadata": {},
     "output_type": "execute_result"
    }
   ],
   "source": [
    "df_train.select_dtypes(exclude=['object']).columns"
   ]
  },
  {
   "cell_type": "code",
   "execution_count": 16,
   "metadata": {},
   "outputs": [],
   "source": [
    "corr = df_train.corr()"
   ]
  },
  {
   "cell_type": "code",
   "execution_count": 23,
   "metadata": {
    "collapsed": true
   },
   "outputs": [
    {
     "data": {
      "text/plain": [
       "['state',\n",
       " 'ekder_female',\n",
       " 'ekder_all',\n",
       " 'raion_popul',\n",
       " 'work_all',\n",
       " 'work_male',\n",
       " 'work_female',\n",
       " 'ekder_male',\n",
       " '0_6_all',\n",
       " 'children_preschool',\n",
       " '0_6_female',\n",
       " '0_6_male',\n",
       " '0_17_all',\n",
       " '0_17_female',\n",
       " '0_17_male',\n",
       " '0_13_male',\n",
       " '0_13_all',\n",
       " 'young_all',\n",
       " 'young_male',\n",
       " '0_13_female',\n",
       " 'young_female',\n",
       " '7_14_male',\n",
       " 'children_school',\n",
       " '7_14_all',\n",
       " '7_14_female',\n",
       " 'school_education_centers_raion',\n",
       " 'preschool_education_centers_raion',\n",
       " 'market_count_5000',\n",
       " 'build_year',\n",
       " 'trc_count_5000',\n",
       " 'kitch_sq',\n",
       " 'trc_sqm_5000',\n",
       " 'healthcare_centers_raion',\n",
       " 'market_count_2000',\n",
       " 'market_count_3000',\n",
       " 'build_count_panel',\n",
       " 'sport_count_2000',\n",
       " 'sport_count_1500',\n",
       " 'sport_count_3000',\n",
       " 'sport_count_5000',\n",
       " 'trc_count_3000',\n",
       " 'build_count_1971-1995',\n",
       " 'prom_part_5000',\n",
       " 'trc_sqm_3000',\n",
       " 'sport_objects_raion',\n",
       " 'sport_count_1000',\n",
       " 'market_count_1500',\n",
       " 'build_count_block',\n",
       " 'market_count_1000',\n",
       " 'prom_part_3000',\n",
       " 'trc_count_2000',\n",
       " 'hospital_beds_raion',\n",
       " 'price_doc',\n",
       " 'shopping_centers_raion',\n",
       " 'raion_build_count_with_builddate_info',\n",
       " 'raion_build_count_with_material_info',\n",
       " 'build_count_1946-1970',\n",
       " 'preschool_quota',\n",
       " 'male_f',\n",
       " 'full_all',\n",
       " 'mosque_count_1500',\n",
       " 'female_f',\n",
       " '16_29_female',\n",
       " '16_29_all',\n",
       " '16_29_male',\n",
       " 'ID_railroad_terminal',\n",
       " 'trc_sqm_2000',\n",
       " 'trc_count_1500',\n",
       " 'mosque_count_5000',\n",
       " 'num_room',\n",
       " 'mosque_count_1000',\n",
       " 'build_count_after_1995',\n",
       " 'build_count_slag',\n",
       " 'build_count_wood',\n",
       " 'school_quota',\n",
       " 'indust_part',\n",
       " 'build_count_monolith',\n",
       " 'office_sqm_5000',\n",
       " 'school_education_centers_top_20_raion',\n",
       " 'prom_part_2000',\n",
       " 'market_count_500',\n",
       " 'water_km',\n",
       " 'leisure_count_500',\n",
       " 'build_count_1921-1945',\n",
       " 'additional_education_raion',\n",
       " 'mosque_count_500',\n",
       " 'build_count_mix',\n",
       " 'trc_sqm_1500',\n",
       " 'mosque_count_2000',\n",
       " 'cafe_count_5000_price_1000',\n",
       " 'sport_count_500',\n",
       " 'water_treatment_km',\n",
       " 'cafe_count_5000_price_500',\n",
       " 'cafe_count_5000_na_price',\n",
       " 'church_count_5000',\n",
       " 'industrial_km',\n",
       " 'trc_count_1000',\n",
       " 'cafe_count_5000',\n",
       " 'build_count_foam',\n",
       " 'office_sqm_1500',\n",
       " 'big_church_count_5000',\n",
       " 'cafe_count_5000_price_1500',\n",
       " 'office_sqm_3000',\n",
       " 'office_sqm_2000',\n",
       " 'mosque_count_3000',\n",
       " 'office_sqm_500',\n",
       " 'office_count_5000',\n",
       " 'trc_count_500',\n",
       " 'cafe_count_500_price_1000',\n",
       " 'office_sqm_1000',\n",
       " 'prom_part_1500',\n",
       " 'leisure_count_5000',\n",
       " 'cafe_count_5000_price_2500',\n",
       " 'build_count_frame',\n",
       " 'cafe_count_1000_price_high',\n",
       " 'prom_part_1000',\n",
       " 'cafe_sum_1500_min_price_avg',\n",
       " 'office_count_500',\n",
       " 'university_top_20_raion',\n",
       " 'cafe_count_5000_price_4000',\n",
       " 'cafe_count_500_price_1500',\n",
       " 'cafe_count_1000_price_1000',\n",
       " 'cafe_sum_1000_min_price_avg',\n",
       " 'green_zone_km',\n",
       " 'material',\n",
       " 'cafe_count_3000_price_1000',\n",
       " 'trc_sqm_1000',\n",
       " 'cafe_sum_2000_min_price_avg',\n",
       " 'office_count_1000',\n",
       " 'build_count_brick',\n",
       " 'cafe_count_5000_price_high',\n",
       " 'big_church_count_3000',\n",
       " 'cafe_avg_price_2000',\n",
       " 'cafe_avg_price_1500',\n",
       " 'cafe_sum_2000_max_price_avg',\n",
       " 'cafe_count_3000_na_price',\n",
       " 'big_market_km',\n",
       " 'prom_part_500',\n",
       " 'office_count_1500',\n",
       " 'church_count_3000',\n",
       " 'cafe_count_3000_price_500',\n",
       " 'office_count_3000',\n",
       " 'cafe_count_1500_price_1000',\n",
       " 'cafe_count_3000',\n",
       " 'office_count_2000',\n",
       " 'cafe_count_3000_price_1500',\n",
       " 'cafe_sum_1500_max_price_avg',\n",
       " 'cafe_avg_price_1000',\n",
       " 'cafe_count_2000_price_1000',\n",
       " 'ID_railroad_station_walk',\n",
       " 'cafe_count_500_price_500',\n",
       " 'office_raion',\n",
       " 'cafe_count_500',\n",
       " 'cafe_count_1000_price_1500',\n",
       " 'cafe_count_2000_na_price',\n",
       " 'cafe_count_1500_na_price',\n",
       " 'cafe_count_1000_na_price',\n",
       " 'cafe_count_2000_price_500',\n",
       " 'cafe_sum_1000_max_price_avg',\n",
       " 'cafe_count_3000_price_high',\n",
       " 'cafe_count_2000_price_1500',\n",
       " 'cafe_count_2000',\n",
       " 'ID_big_road2',\n",
       " 'cafe_count_3000_price_2500',\n",
       " 'leisure_count_1500',\n",
       " 'big_church_count_1000',\n",
       " 'cafe_count_1500_price_500',\n",
       " 'cafe_count_1500_price_1500',\n",
       " 'cafe_count_1500',\n",
       " 'max_floor',\n",
       " 'cafe_count_1000',\n",
       " 'build_count_before_1920',\n",
       " 'big_church_count_2000',\n",
       " 'cafe_count_1500_price_high',\n",
       " 'leisure_count_3000',\n",
       " 'church_count_2000',\n",
       " 'cafe_count_1000_price_500',\n",
       " 'leisure_count_1000',\n",
       " 'cafe_count_2000_price_2500',\n",
       " 'trc_sqm_500',\n",
       " 'cafe_count_3000_price_4000',\n",
       " 'cafe_count_1500_price_2500',\n",
       " 'cafe_count_500_na_price',\n",
       " 'full_sq',\n",
       " 'cafe_count_500_price_high',\n",
       " 'church_synagogue_km',\n",
       " 'leisure_count_2000',\n",
       " 'big_church_count_1500',\n",
       " 'cafe_count_2000_price_high',\n",
       " 'cafe_count_500_price_4000',\n",
       " 'church_count_1500',\n",
       " 'green_part_1500',\n",
       " 'big_road1_km',\n",
       " 'green_part_5000',\n",
       " 'green_part_2000',\n",
       " 'green_part_3000',\n",
       " 'cafe_count_2000_price_4000',\n",
       " 'cafe_count_1000_price_2500',\n",
       " 'cafe_sum_500_min_price_avg',\n",
       " 'cafe_count_500_price_2500',\n",
       " 'big_church_count_500',\n",
       " 'church_count_1000',\n",
       " 'cafe_count_1500_price_4000',\n",
       " 'ID_railroad_station_avto',\n",
       " 'cafe_avg_price_500',\n",
       " 'id',\n",
       " 'floor',\n",
       " 'ID_metro',\n",
       " 'cafe_sum_500_max_price_avg',\n",
       " 'cafe_count_1000_price_4000',\n",
       " 'green_part_1000',\n",
       " 'church_count_500',\n",
       " 'culture_objects_top_25_raion',\n",
       " 'ts_km',\n",
       " 'mosque_km',\n",
       " 'big_road2_km',\n",
       " 'cemetery_km',\n",
       " 'bus_terminal_avto_km',\n",
       " 'green_part_500',\n",
       " 'metro_min_avto',\n",
       " 'green_zone_part',\n",
       " 'mkad_km',\n",
       " 'metro_km_avto',\n",
       " 'metro_km_walk',\n",
       " 'metro_min_walk',\n",
       " 'life_sq',\n",
       " 'ID_bus_terminal',\n",
       " 'incineration_km',\n",
       " 'cafe_sum_3000_min_price_avg',\n",
       " 'exhibition_km',\n",
       " 'park_km',\n",
       " 'cafe_avg_price_3000',\n",
       " 'railroad_km',\n",
       " 'cafe_sum_3000_max_price_avg',\n",
       " 'ID_big_road1',\n",
       " 'public_transport_station_min_walk',\n",
       " 'public_transport_station_km',\n",
       " 'railroad_station_avto_min',\n",
       " 'power_transmission_line_km',\n",
       " 'oil_chemistry_km',\n",
       " 'additional_education_km',\n",
       " 'railroad_station_walk_km',\n",
       " 'railroad_station_walk_min',\n",
       " 'kremlin_km',\n",
       " 'cafe_sum_5000_min_price_avg',\n",
       " 'railroad_station_avto_km',\n",
       " 'radiation_km',\n",
       " 'cafe_avg_price_5000',\n",
       " 'cafe_sum_5000_max_price_avg',\n",
       " 'bulvar_ring_km',\n",
       " 'stadium_km',\n",
       " 'sadovoe_km',\n",
       " 'theater_km',\n",
       " 'thermal_power_plant_km',\n",
       " 'hospice_morgue_km',\n",
       " 'ice_rink_km',\n",
       " 'ttk_km',\n",
       " 'kindergarten_km',\n",
       " 'preschool_km',\n",
       " 'school_km',\n",
       " 'shopping_centers_km',\n",
       " 'big_church_km',\n",
       " 'zd_vokzaly_avto_km',\n",
       " 'basketball_km',\n",
       " 'museum_km',\n",
       " 'detention_facility_km',\n",
       " 'nuclear_reactor_km',\n",
       " 'area_m',\n",
       " 'public_healthcare_km',\n",
       " 'swim_pool_km',\n",
       " 'office_km',\n",
       " 'catering_km',\n",
       " 'university_km',\n",
       " 'market_shop_km',\n",
       " 'fitness_km',\n",
       " 'workplaces_km']"
      ]
     },
     "execution_count": 23,
     "metadata": {},
     "output_type": "execute_result"
    }
   ],
   "source": [
    "list(corr['state'].sort_values(ascending=False).index)"
   ]
  },
  {
   "cell_type": "code",
   "execution_count": 6,
   "metadata": {
    "scrolled": false
   },
   "outputs": [
    {
     "data": {
      "text/plain": [
       "1.0"
      ]
     },
     "execution_count": 6,
     "metadata": {},
     "output_type": "execute_result"
    }
   ],
   "source": [
    "pd.DataFrame([df_train.loc[:,'price_doc'], df_train.loc[:,'full_sq']]).corr().iloc[0, 1]"
   ]
  },
  {
   "cell_type": "code",
   "execution_count": 3,
   "metadata": {},
   "outputs": [
    {
     "data": {
      "text/plain": [
       "'v'"
      ]
     },
     "execution_count": 3,
     "metadata": {},
     "output_type": "execute_result"
    }
   ],
   "source": [
    "a = {1:\"v\",2:\"b\",3:\"a\"}\n",
    "a[1]"
   ]
  },
  {
   "cell_type": "code",
   "execution_count": 45,
   "metadata": {
    "collapsed": true
   },
   "outputs": [],
   "source": [
    "# def droping_feature_that_show_no_relation(df, output,file=\"\",after=\"\"):\n",
    "#     corr = df_train.corr()\n",
    "#     data_rows = np.size(df,0)\n",
    "#     if after != \"\":\n",
    "#         main_code = pd.read_csv(file)\n",
    "#         z = False\n",
    "#     else:\n",
    "#         main_code = pd.DataFrame([0,0])\n",
    "#         z = True\n",
    "    \n",
    "#     for i, col in enumerate(df.columns):\n",
    "#         if after == col or z:\n",
    "#             z = True\n",
    "#         if z:\n",
    "#             if df_train[col].dtypes != \"O\":\n",
    "#                 plt.figure(i)\n",
    "#                 plt.scatter(df_train[col],df_train[output])\n",
    "#                 plt.xlabel(col)\n",
    "#                 plt.ylabel(output)\n",
    "#                 plt.show()\n",
    "#                 print(\"Correlation = \",corr[output][col])\n",
    "#             else:\n",
    "#                 grouped = df[[col,output]].groupby(col)\n",
    "#                 output_df = df[col].value_counts()\n",
    "#                 output_df = pd.DataFrame({'Count #':output_df, 'Percent %':(output_df/data_rows)*100})\n",
    "#                 output_df = output_df.join(grouped.mean(),lsuffix=\"_mean\")\n",
    "#                 print(output_df.head(10))\n",
    "\n",
    "#             k = False\n",
    "            \n",
    "#             drop_feature = input(\"What to Feature : \")\n",
    "\n",
    "#             if drop_feature == \"r\":\n",
    "#                 drop_feature = \"Remove\"\n",
    "#                 main_code = pd.concat([main_code,pd.DataFrame([[col,drop_feature]])], axis=0)\n",
    "#                 k = True\n",
    "#             elif drop_feature == \"m\":\n",
    "#                 drop_feature = \"Modify\"\n",
    "#                 main_code = pd.concat([main_code,pd.DataFrame([[col,drop_feature]])], axis=0)\n",
    "#                 k = True\n",
    "#             elif drop_feature == \"b\":\n",
    "#                 drop_feature = \"Break\"\n",
    "#                 main_code = pd.concat([main_code,pd.DataFrame([[col,drop_feature]])], axis=0)\n",
    "#                 k = True\n",
    "#             elif len(drop_feature) > 1:\n",
    "#                 main_code = pd.concat([main_code,pd.DataFrame([[col,drop_feature]])], axis=0)\n",
    "#                 k = True\n",
    "\n",
    "#             if k == True and file != \"\":\n",
    "#                 main_code.to_csv(file, index=False)\n",
    "            \n",
    "#     return main_code\n",
    "\n",
    "# droping_feature_that_show_no_relation(df_train, 'price_doc', 'remove_feature.csv')"
   ]
  },
  {
   "cell_type": "code",
   "execution_count": null,
   "metadata": {
    "collapsed": true
   },
   "outputs": [],
   "source": []
  }
 ],
 "metadata": {
  "kernelspec": {
   "display_name": "Python 3",
   "language": "python",
   "name": "python3"
  },
  "language_info": {
   "codemirror_mode": {
    "name": "ipython",
    "version": 3
   },
   "file_extension": ".py",
   "mimetype": "text/x-python",
   "name": "python",
   "nbconvert_exporter": "python",
   "pygments_lexer": "ipython3",
   "version": "3.5.1"
  }
 },
 "nbformat": 4,
 "nbformat_minor": 2
}
